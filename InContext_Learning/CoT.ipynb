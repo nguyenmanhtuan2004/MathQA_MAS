{
 "cells": [
  {
   "cell_type": "code",
   "execution_count": 1,
   "id": "c9c31b11",
   "metadata": {},
   "outputs": [],
   "source": [
    "from openai import OpenAI\n",
    "from dateutil.relativedelta import relativedelta\n",
    "import os\n",
    "import json\n",
    "from pydantic import BaseModel,Field\n",
    "from langchain.llms import OpenAI\n",
    "from dotenv import load_dotenv\n",
    "from langchain.chat_models import ChatOpenAI, init_chat_model\n",
    "from langchain_core.messages import HumanMessage, SystemMessage\n",
    "from tqdm import tqdm\n",
    "import re\n"
   ]
  },
  {
   "cell_type": "code",
   "execution_count": 2,
   "id": "88ba7099",
   "metadata": {},
   "outputs": [],
   "source": [
    "file_path = '../data/GSM8K/test.jsonl'\n",
    "\n",
    "with open(file_path, \"r\", encoding=\"utf-8\") as f:\n",
    "    dataset = [json.loads(line) for line in f]"
   ]
  },
  {
   "cell_type": "code",
   "execution_count": 12,
   "id": "e6f9470a",
   "metadata": {},
   "outputs": [],
   "source": [
    "load_dotenv()\n",
    "class Step(BaseModel):\n",
    "    explanation: str\n",
    "    output: str\n",
    "\n",
    "class MathReasoning(BaseModel):\n",
    "    steps: list[Step]\n",
    "    final_answer: str\n",
    "load_dotenv()\n",
    "model=init_chat_model('gpt-4o-mini',model_provider='openai',temperature=0.2)\n",
    "messages=[\n",
    "    SystemMessage(content=\"You are a math expert. For every question, respond ONLY by calling the 'MathReasoning' tool. You must explain the solution step-by-step using 'steps', and include the final numeric result in 'final_answer'.The result should be a number only, with no units.\"),\n",
    "    HumanMessage(\"Eliza's rate per hour for the first 40 hours she works each week is $10. She also receives an overtime pay of 1.2 times her regular hourly rate. If Eliza worked for 45 hours this week, how much are her earnings for this week?\")\n",
    "]\n",
    "model_with_tools = model.with_structured_output(MathReasoning)\n",
    "ai_msg = model_with_tools.invoke(messages)"
   ]
  },
  {
   "cell_type": "code",
   "execution_count": 14,
   "id": "50ab69dd",
   "metadata": {},
   "outputs": [],
   "source": [
    "def extract_ground_truth(answer: str) -> str:\n",
    "    match = re.search(r\"####\\s*(\\d+)\", answer)\n",
    "    return match.group(1).strip() if match else \"\"\n",
    "\n",
    "def compare_answers(predicted: str, actual: str) -> bool:\n",
    "    return predicted.strip() == actual.strip()"
   ]
  },
  {
   "cell_type": "code",
   "execution_count": 17,
   "id": "d1136b84",
   "metadata": {},
   "outputs": [
    {
     "name": "stderr",
     "output_type": "stream",
     "text": [
      " 61%|██████    | 182/300 [11:54<06:00,  3.06s/it]"
     ]
    },
    {
     "name": "stdout",
     "output_type": "stream",
     "text": [
      "Error on question: Sandra, the florist around the corner, is very unhappy with ... => 'final_answer'\n"
     ]
    },
    {
     "name": "stderr",
     "output_type": "stream",
     "text": [
      "100%|██████████| 300/300 [20:44<00:00,  4.15s/it]"
     ]
    },
    {
     "name": "stdout",
     "output_type": "stream",
     "text": [
      "Accuracy: 88.33% (265/300)\n"
     ]
    },
    {
     "name": "stderr",
     "output_type": "stream",
     "text": [
      "\n"
     ]
    }
   ],
   "source": [
    "correct = 0\n",
    "total = len(dataset[:300])\n",
    "model_with_tools = model.bind_tools([MathReasoning])\n",
    "for item in tqdm(dataset[:300]):\n",
    "    question = item[\"question\"]\n",
    "    true_answer = extract_ground_truth(item[\"answer\"])\n",
    "    messages = [\n",
    "        SystemMessage(content=\"\"\"\n",
    "        You are a math expert.\n",
    "        For every question, you **must** respond using the `MathReasoning` tool.\n",
    "        - Do not respond with plain text or natural language.\n",
    "        - Use a list of `Step`s to break down the reasoning.\n",
    "        - Include a `final_answer` as a single number, no units or symbols.\n",
    "        - If you cannot solve it, return a final_answer of \"unknown\".\n",
    "        \"\"\"),\n",
    "        HumanMessage(content=question)\n",
    "    ]\n",
    "    try:\n",
    "        ai_msg = model_with_tools.invoke(messages)\n",
    "        tool_calls = ai_msg.tool_calls\n",
    "        if tool_calls and isinstance(tool_calls[0], dict):\n",
    "            predicted_answer = tool_calls[0][\"args\"][\"final_answer\"]\n",
    "            tool_output = ai_msg.tool_calls[0][\"args\"]\n",
    "            with open(\"result_COT.json\", \"w\", encoding=\"utf-8\") as f:\n",
    "                json.dump(tool_output, f, ensure_ascii=False, indent=2)\n",
    "        else:\n",
    "            predicted_answer = ai_msg.tool_calls[0].args[\"final_answer\"] \n",
    "        if compare_answers(predicted_answer, true_answer):\n",
    "            correct += 1\n",
    "    except Exception as e:\n",
    "        print(f\"Error on question: {question[:60]}... => {e}\")\n",
    "        continue\n",
    "accuracy = correct / total * 100\n",
    "print(f\"Accuracy: {accuracy:.2f}% ({correct}/{total})\")\n"
   ]
  },
  {
   "cell_type": "code",
   "execution_count": null,
   "id": "f9ff3182",
   "metadata": {},
   "outputs": [],
   "source": []
  }
 ],
 "metadata": {
  "kernelspec": {
   "display_name": "base",
   "language": "python",
   "name": "python3"
  },
  "language_info": {
   "codemirror_mode": {
    "name": "ipython",
    "version": 3
   },
   "file_extension": ".py",
   "mimetype": "text/x-python",
   "name": "python",
   "nbconvert_exporter": "python",
   "pygments_lexer": "ipython3",
   "version": "3.12.7"
  }
 },
 "nbformat": 4,
 "nbformat_minor": 5
}
