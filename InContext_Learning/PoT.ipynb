{
 "cells": [
  {
   "cell_type": "code",
   "execution_count": 1,
   "id": "a479ed13",
   "metadata": {},
   "outputs": [],
   "source": [
    "from openai import OpenAI\n",
    "from dateutil.relativedelta import relativedelta\n",
    "import os\n",
    "import json\n",
    "from pydantic import BaseModel,Field\n",
    "from langchain.llms import OpenAI\n",
    "from dotenv import load_dotenv\n",
    "from langchain.chat_models import ChatOpenAI, init_chat_model\n",
    "from langchain_core.messages import HumanMessage, SystemMessage\n",
    "from tqdm import tqdm\n",
    "import re\n",
    "import textwrap\n",
    "from concurrent.futures import ThreadPoolExecutor, as_completed"
   ]
  },
  {
   "cell_type": "code",
   "execution_count": 2,
   "id": "bf710b3f",
   "metadata": {},
   "outputs": [],
   "source": [
    "file_path = '../data/GSM8K/test.jsonl'\n",
    "\n",
    "with open(file_path, \"r\", encoding=\"utf-8\") as f:\n",
    "    dataset = [json.loads(line) for line in f]"
   ]
  },
  {
   "cell_type": "code",
   "execution_count": 3,
   "id": "5890371a",
   "metadata": {},
   "outputs": [
    {
     "data": {
      "text/plain": [
       "True"
      ]
     },
     "execution_count": 3,
     "metadata": {},
     "output_type": "execute_result"
    }
   ],
   "source": [
    "load_dotenv()"
   ]
  },
  {
   "cell_type": "code",
   "execution_count": 32,
   "id": "d5a9b0a3",
   "metadata": {},
   "outputs": [
    {
     "name": "stdout",
     "output_type": "stream",
     "text": [
      "13\n",
      "13\n"
     ]
    }
   ],
   "source": [
    "\n",
    "class Step(BaseModel):\n",
    "    explanation: str\n",
    "    output: str\n",
    "class IntermediateProgram(BaseModel):\n",
    "    program: str\n",
    "    result: str  \n",
    "class FinalAnswer(BaseModel):\n",
    "    steps: list[Step]\n",
    "    final_answer: str\n",
    "\n",
    "load_dotenv()\n",
    "model = init_chat_model(\"gpt-4o-mini\", model_provider=\"openai\", temperature=0.2)\n",
    "\n",
    "def PoT(question: str) -> IntermediateProgram:\n",
    "    pot_prompt = SystemMessage(content=\"\"\"\n",
    "You are a math expert. Read the question and write code to solve it.\n",
    "\"\"\")\n",
    "    pot_messages = [pot_prompt, HumanMessage(content=question)]\n",
    "    model_pot = model.with_structured_output(IntermediateProgram)\n",
    "    return model_pot.invoke(pot_messages)\n",
    "\n",
    "# === Function: Prompt ===\n",
    "def Prompt(question: str, intermediate_result: str) -> FinalAnswer:\n",
    "    final_prompt = SystemMessage(content=\"\"\"\n",
    "Based on the question and result, return only the numeric final answer.\n",
    "You must explain the solution step-by-step using 'steps'.\n",
    "Final numeric result in 'final_answer'.\n",
    "The result should be a number only, with no units.\n",
    "If the final result is a decimal ending in .0, convert it to an integer using int() or round().\n",
    "\"\"\")\n",
    "    context = question + f\"\\nAccording to the program: ans = {intermediate_result}\"\n",
    "    prompt_messages = [final_prompt, HumanMessage(content=context)]\n",
    "    model_final = model.with_structured_output(FinalAnswer)\n",
    "    return model_final.invoke(prompt_messages)\n",
    "\n",
    "question = \"Carlos is planting a lemon tree. The tree will cost $90 to plant. Each year it will grow 7 lemons, which he can sell for $1.5 each. It costs $3 a year to water and feed the tree. How many years will it take before he starts earning money on the lemon tree?\"\n",
    "intermediate = PoT(question)\n",
    "intermediate_result = intermediate.result\n",
    "final = Prompt(question, intermediate_result)\n",
    "print(intermediate.result)\n",
    "print(final.final_answer)\n"
   ]
  },
  {
   "cell_type": "code",
   "execution_count": 21,
   "id": "c476265a",
   "metadata": {},
   "outputs": [],
   "source": [
    "def extract_ground_truth(answer: str) -> str:\n",
    "    match = re.search(r\"####\\s*(\\d+)\", answer)\n",
    "    return match.group(1).strip() if match else \"\"\n",
    "\n",
    "def compare_answers(predicted: str, actual: str) -> bool:\n",
    "    return predicted.strip() == actual.strip()"
   ]
  },
  {
   "cell_type": "code",
   "execution_count": 34,
   "id": "87bda2f2",
   "metadata": {},
   "outputs": [
    {
     "name": "stderr",
     "output_type": "stream",
     "text": [
      "100%|██████████| 300/300 [07:51<00:00,  1.57s/it]"
     ]
    },
    {
     "name": "stdout",
     "output_type": "stream",
     "text": [
      "Accuracy: 92.00% (276/300)\n"
     ]
    },
    {
     "name": "stderr",
     "output_type": "stream",
     "text": [
      "\n"
     ]
    }
   ],
   "source": [
    "import ast\n",
    "def process_item(item):\n",
    "    question = item[\"question\"]\n",
    "    true_answer = extract_ground_truth(item[\"answer\"])\n",
    "    try:\n",
    "        intermediate = PoT(question)\n",
    "        intermediate_result = intermediate.result\n",
    "        final = Prompt(question, intermediate_result)\n",
    "        return {\n",
    "            \"question\": question,\n",
    "            \"true_answer\": true_answer,\n",
    "            \"predicted_answer\": final.final_answer,\n",
    "            \"steps\": [step.model_dump() for step in final.steps],\n",
    "            \"correct\": compare_answers(final.final_answer, true_answer)\n",
    "        }\n",
    "    except Exception as e:\n",
    "        return {\"error\": str(e), \"question\": question}\n",
    "\n",
    "results = []\n",
    "correct = 0\n",
    "total = len(dataset[:300])\n",
    "with ThreadPoolExecutor(max_workers=5) as executor:\n",
    "    futures = [executor.submit(process_item, item) for item in dataset[:300]]\n",
    "    for future in tqdm(as_completed(futures), total=total):\n",
    "        result = future.result()\n",
    "        if \"error\" not in result:\n",
    "            results.append(result)\n",
    "            if result[\"correct\"]:\n",
    "                correct += 1\n",
    "        else:\n",
    "            print(f\"Error on question: {result['question'][:60]}... => {result['error']}\")\n",
    "accuracy = correct / total * 100\n",
    "print(f\"Accuracy: {accuracy:.2f}% ({correct}/{total})\")\n"
   ]
  },
  {
   "cell_type": "code",
   "execution_count": 35,
   "id": "776be706",
   "metadata": {},
   "outputs": [
    {
     "name": "stdout",
     "output_type": "stream",
     "text": [
      "Đã lưu kết quả vào PoT_results.jsonl\n"
     ]
    }
   ],
   "source": [
    "# Lưu ra file JSONL\n",
    "output_path = \"PoT_results.jsonl\"\n",
    "with open(output_path, \"w\", encoding=\"utf-8\") as f:\n",
    "    for item in results:\n",
    "        f.write(json.dumps(item, ensure_ascii=False) + \"\\n\")\n",
    "print(f\"Đã lưu kết quả vào {output_path}\")"
   ]
  }
 ],
 "metadata": {
  "kernelspec": {
   "display_name": "base",
   "language": "python",
   "name": "python3"
  },
  "language_info": {
   "codemirror_mode": {
    "name": "ipython",
    "version": 3
   },
   "file_extension": ".py",
   "mimetype": "text/x-python",
   "name": "python",
   "nbconvert_exporter": "python",
   "pygments_lexer": "ipython3",
   "version": "3.12.7"
  }
 },
 "nbformat": 4,
 "nbformat_minor": 5
}
