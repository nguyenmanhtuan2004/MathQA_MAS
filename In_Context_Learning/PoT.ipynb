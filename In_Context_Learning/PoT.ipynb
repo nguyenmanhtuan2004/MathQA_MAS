{
 "cells": [
  {
   "cell_type": "code",
   "execution_count": 184,
   "id": "a479ed13",
   "metadata": {},
   "outputs": [],
   "source": [
    "from openai import OpenAI\n",
    "import os\n",
    "import json\n",
    "from pydantic import BaseModel,Field\n",
    "from langchain.llms import OpenAI\n",
    "from dotenv import load_dotenv\n",
    "from langchain.chat_models import init_chat_model\n",
    "from langchain_core.messages import HumanMessage, SystemMessage\n",
    "from tqdm import tqdm\n",
    "import re\n",
    "import textwrap\n",
    "from langgraph.graph import StateGraph, END\n",
    "from typing import TypedDict, Optional\n",
    "from openai import OpenAI\n",
    "from pydantic import BaseModel\n",
    "import traceback\n",
    "from langgraph.graph import StateGraph, END\n",
    "from typing import TypedDict, Optional\n",
    "from concurrent.futures import ThreadPoolExecutor, as_completed"
   ]
  },
  {
   "cell_type": "code",
   "execution_count": 185,
   "id": "bf710b3f",
   "metadata": {},
   "outputs": [],
   "source": [
    "file_path = '../data/GSM8K/test.jsonl'\n",
    "\n",
    "with open(file_path, \"r\", encoding=\"utf-8\") as f:\n",
    "    dataset = [json.loads(line) for line in f]"
   ]
  },
  {
   "cell_type": "code",
   "execution_count": 186,
   "id": "5890371a",
   "metadata": {},
   "outputs": [],
   "source": [
    "load_dotenv()\n",
    "model = init_chat_model(\"gpt-4o-mini\", model_provider=\"openai\", temperature=0.2)"
   ]
  },
  {
   "cell_type": "code",
   "execution_count": 187,
   "id": "b39465d3",
   "metadata": {},
   "outputs": [],
   "source": [
    "from langgraph.graph import StateGraph, END\n",
    "from typing import TypedDict, Optional\n",
    "class State(TypedDict):\n",
    "    question: str\n",
    "    program: Optional[str]\n",
    "    result: Optional[str]\n",
    "    final_answer: Optional[str]\n",
    "    steps: Optional[list]\n",
    "    error: Optional[str]\n",
    "class Step(BaseModel):\n",
    "    explanation: str\n",
    "    output: str\n",
    "class IntermediateProgram(BaseModel):\n",
    "    program: str\n",
    "class FinalAnswer(BaseModel):\n",
    "    steps: list[Step]\n",
    "    final_answer: str\n",
    "class DecisionOutput(BaseModel):\n",
    "    decision: str"
   ]
  },
  {
   "cell_type": "code",
   "execution_count": 188,
   "id": "d5a9b0a3",
   "metadata": {},
   "outputs": [],
   "source": [
    "def pot_node(state: State) -> State:\n",
    "    pot_prompt = SystemMessage(content=\"\"\"\n",
    "    You are a math expert. Read the question and write code to solve it. Assign final result to 'result'. If the final result is a decimal ending in .0, convert it to an integer using round().\n",
    "\"\"\")\n",
    "    pot_messages = [pot_prompt, HumanMessage(content=state[\"question\"])]\n",
    "    model_pot = model.with_structured_output(IntermediateProgram)\n",
    "    model_invoke=model_pot.invoke(pot_messages)\n",
    "    code=model_invoke.program\n",
    "    return {**state, \"program\": code}\n",
    "\n",
    "def exec_node(state: State) -> State:\n",
    "    try:\n",
    "        exec_globals = {}\n",
    "        exec(state[\"program\"], {}, exec_globals)\n",
    "        result = exec_globals.get(\"result\", None)\n",
    "        if result is None:\n",
    "            raise ValueError(\"Missing `result`\")\n",
    "        return {**state, \"result\": str(result), \"error\": None}\n",
    "    except Exception as e:\n",
    "        return {**state, \"result\": None, \"error\": str(e)}\n",
    "\n",
    "def check_eos(state: State) -> bool:\n",
    "    if state[\"error\"] is None:\n",
    "        return True\n",
    "    else:\n",
    "        return False\n",
    "def write_final_answer_node(state:State)->State:\n",
    "    result=str(state[\"result\"])\n",
    "    return {**state,\"final_answer\":result}\n",
    "\n",
    "def cot_node(state: State) -> State:\n",
    "    final_prompt = SystemMessage(content=\"\"\"\n",
    "Based on the question and result, return only the numeric final answer.\n",
    "Final numeric result in 'final_answer'.\n",
    "The result should be a number only, with no units.\n",
    "\"\"\")\n",
    "    context = state[\"question\"] + f\"\\nAccording to the program: ans = {state['result']}\"\n",
    "    prompt_messages = [final_prompt, HumanMessage(content=context)]\n",
    "    model_final = model.with_structured_output(FinalAnswer)\n",
    "    model_invoke=model_final.invoke(prompt_messages)\n",
    "    final_answer=model_invoke.final_answer\n",
    "    steps=model_invoke.steps\n",
    "    return {**state, \"final_answer\": final_answer, \"steps\": steps}\n",
    "\n",
    "builder = StateGraph(State)\n",
    "builder.add_node(\"PoT\", pot_node)\n",
    "builder.add_node(\"Exec\", exec_node)\n",
    "builder.add_node(\"CoT\", cot_node)\n",
    "builder.add_node(\"write_final_answer\",write_final_answer_node)\n",
    "\n",
    "builder.set_entry_point(\"PoT\")\n",
    "builder.add_edge(\"PoT\", \"Exec\")\n",
    "builder.add_edge(\"CoT\", END)\n",
    "builder.add_edge(\"write_final_answer\",END)\n",
    "builder.add_conditional_edges(\"Exec\", check_eos, {\n",
    "    True: \"write_final_answer\",     \n",
    "    False: \"CoT\"   \n",
    "})\n",
    "graph = builder.compile()\n"
   ]
  },
  {
   "cell_type": "code",
   "execution_count": 189,
   "id": "61bcbf94",
   "metadata": {},
   "outputs": [],
   "source": [
    "question = \"Carlos is planting a lemon tree. The tree will cost $90 to plant. Each year it will grow 7 lemons, which he can sell for $1.5 each. It costs $3 a year to water and feed the tree. How many years will it take before he starts earning money on the lemon tree?\"\n",
    "result = graph.invoke({\"question\": question})"
   ]
  },
  {
   "cell_type": "code",
   "execution_count": 190,
   "id": "b1f23a59",
   "metadata": {},
   "outputs": [
    {
     "data": {
      "text/plain": [
       "{'question': 'Carlos is planting a lemon tree. The tree will cost $90 to plant. Each year it will grow 7 lemons, which he can sell for $1.5 each. It costs $3 a year to water and feed the tree. How many years will it take before he starts earning money on the lemon tree?',\n",
       " 'program': '# Constants\\ncost_to_plant = 90\\nlemons_per_year = 7\\nprice_per_lemon = 1.5\\nannual_cost = 3\\n\\n# Initial setup\\nyears = 0\\nnet_profit = -cost_to_plant\\n\\n# Calculate profit year by year until profit is positive\\nwhile net_profit < 0:\\n    years += 1\\n    revenue = lemons_per_year * price_per_lemon\\n    expenses = annual_cost\\n    net_profit += (revenue - expenses)\\n\\n# Assign final result\\nresult = years\\n\\n# Convert to integer if it ends with .0\\nif result % 1 == 0:\\n    result = round(result)\\n\\nresult',\n",
       " 'result': '12',\n",
       " 'final_answer': '12',\n",
       " 'error': None}"
      ]
     },
     "execution_count": 190,
     "metadata": {},
     "output_type": "execute_result"
    }
   ],
   "source": [
    "result"
   ]
  },
  {
   "cell_type": "code",
   "execution_count": 191,
   "id": "c476265a",
   "metadata": {},
   "outputs": [],
   "source": [
    "def extract_ground_truth(answer: str) -> str:\n",
    "    match = re.search(r\"####\\s*(\\d+)\", answer)\n",
    "    return match.group(1).strip() if match else \"\"\n",
    "\n",
    "def compare_answers(predicted: str, actual: str) -> bool:\n",
    "    return predicted.strip() == actual.strip()"
   ]
  },
  {
   "cell_type": "code",
   "execution_count": 194,
   "id": "87bda2f2",
   "metadata": {},
   "outputs": [
    {
     "name": "stderr",
     "output_type": "stream",
     "text": [
      "100%|██████████| 400/400 [03:44<00:00,  1.78it/s]"
     ]
    },
    {
     "name": "stdout",
     "output_type": "stream",
     "text": [
      "Accuracy: 91.75% (367/400)\n"
     ]
    },
    {
     "name": "stderr",
     "output_type": "stream",
     "text": [
      "\n"
     ]
    }
   ],
   "source": [
    "\n",
    "def process_item(item):\n",
    "    question = item[\"question\"]\n",
    "    true_answer = extract_ground_truth(item[\"answer\"])\n",
    "    try:\n",
    "        result = graph.invoke({\"question\": question})\n",
    "        return {\n",
    "            \"question\": question,\n",
    "            \"true_answer\": true_answer,\n",
    "            \"predicted_answer\": result[\"final_answer\"],\n",
    "            \"correct\": compare_answers(result[\"final_answer\"], true_answer)\n",
    "        }\n",
    "    except Exception as e:\n",
    "        return {\"error\": str(e), \"question\": question}\n",
    "\n",
    "results = []\n",
    "correct = 0\n",
    "total = len(dataset[:400])\n",
    "with ThreadPoolExecutor(max_workers=5) as executor:\n",
    "    futures = [executor.submit(process_item, item) for item in dataset[:400]]\n",
    "    for future in tqdm(as_completed(futures), total=total):\n",
    "        result = future.result()\n",
    "        if \"error\" not in result:\n",
    "            results.append(result)\n",
    "            if result[\"correct\"]:\n",
    "                correct += 1\n",
    "        else:\n",
    "            print(f\"Error on question: {result['question'][:60]}... => {result['error']}\")\n",
    "accuracy = correct / total * 100\n",
    "print(f\"Accuracy: {accuracy:.2f}% ({correct}/{total})\")\n"
   ]
  },
  {
   "cell_type": "code",
   "execution_count": 195,
   "id": "776be706",
   "metadata": {},
   "outputs": [
    {
     "name": "stdout",
     "output_type": "stream",
     "text": [
      "Đã lưu kết quả vào PoT_results.jsonl\n"
     ]
    }
   ],
   "source": [
    "# Lưu ra file JSONL\n",
    "output_path = \"PoT_results.jsonl\"\n",
    "with open(output_path, \"w\", encoding=\"utf-8\") as f:\n",
    "    for item in results:\n",
    "        f.write(json.dumps(item, ensure_ascii=False) + \"\\n\")\n",
    "print(f\"Đã lưu kết quả vào {output_path}\")"
   ]
  }
 ],
 "metadata": {
  "kernelspec": {
   "display_name": "base",
   "language": "python",
   "name": "python3"
  },
  "language_info": {
   "codemirror_mode": {
    "name": "ipython",
    "version": 3
   },
   "file_extension": ".py",
   "mimetype": "text/x-python",
   "name": "python",
   "nbconvert_exporter": "python",
   "pygments_lexer": "ipython3",
   "version": "3.12.7"
  }
 },
 "nbformat": 4,
 "nbformat_minor": 5
}
