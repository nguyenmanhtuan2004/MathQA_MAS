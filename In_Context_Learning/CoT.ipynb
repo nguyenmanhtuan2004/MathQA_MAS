{
 "cells": [
  {
   "cell_type": "code",
   "execution_count": 10,
   "id": "c9c31b11",
   "metadata": {},
   "outputs": [],
   "source": [
    "from openai import OpenAI\n",
    "from dateutil.relativedelta import relativedelta\n",
    "import os\n",
    "import json\n",
    "from pydantic import BaseModel,Field\n",
    "from langchain.llms import OpenAI\n",
    "from dotenv import load_dotenv\n",
    "from langchain.chat_models import ChatOpenAI, init_chat_model\n",
    "from langchain_core.messages import HumanMessage, SystemMessage\n",
    "from tqdm import tqdm\n",
    "import re\n"
   ]
  },
  {
   "cell_type": "code",
   "execution_count": 11,
   "id": "88ba7099",
   "metadata": {},
   "outputs": [],
   "source": [
    "file_path = '../data/GSM8K/test.jsonl'\n",
    "\n",
    "with open(file_path, \"r\", encoding=\"utf-8\") as f:\n",
    "    dataset = [json.loads(line) for line in f]"
   ]
  },
  {
   "cell_type": "code",
   "execution_count": 12,
   "id": "e6f9470a",
   "metadata": {},
   "outputs": [],
   "source": [
    "load_dotenv()\n",
    "class Step(BaseModel):\n",
    "    explanation: str\n",
    "    output: str\n",
    "\n",
    "class MathReasoning(BaseModel):\n",
    "    steps: list[Step]\n",
    "    final_answer: str\n",
    "load_dotenv()\n",
    "model=init_chat_model('gpt-4o-mini',model_provider='openai',temperature=0.2)\n",
    "messages=[\n",
    "    SystemMessage(content=\"You are a math expert. For every question, respond ONLY by calling the 'MathReasoning' tool. You must explain the solution step-by-step using 'steps', and include the final numeric result in 'final_answer'.The result should be a number only, with no units.\"),\n",
    "    HumanMessage(\"Tìm x. 2x-3=9\")\n",
    "]\n",
    "model_with_tools = model.with_structured_output(MathReasoning)\n",
    "ai_msg = model_with_tools.invoke(messages)"
   ]
  },
  {
   "cell_type": "code",
   "execution_count": 13,
   "id": "bce0380a",
   "metadata": {},
   "outputs": [
    {
     "data": {
      "text/plain": [
       "MathReasoning(steps=[Step(explanation='Bắt đầu với phương trình 2x - 3 = 9.', output='2x - 3 = 9'), Step(explanation='Cộng 3 vào cả hai vế để loại bỏ -3.', output='2x = 9 + 3'), Step(explanation='Tính toán bên phải: 9 + 3 = 12.', output='2x = 12'), Step(explanation='Chia cả hai vế cho 2 để tìm x.', output='x = 12 / 2'), Step(explanation='Tính toán: 12 / 2 = 6.', output='x = 6')], final_answer='6')"
      ]
     },
     "execution_count": 13,
     "metadata": {},
     "output_type": "execute_result"
    }
   ],
   "source": [
    "ai_msg"
   ]
  },
  {
   "cell_type": "code",
   "execution_count": 14,
   "id": "50ab69dd",
   "metadata": {},
   "outputs": [],
   "source": [
    "def extract_ground_truth(answer: str) -> str:\n",
    "    match = re.search(r\"####\\s*(\\d+)\", answer)\n",
    "    return match.group(1).strip() if match else \"\"\n",
    "\n",
    "def compare_answers(predicted: str, actual: str) -> bool:\n",
    "    return predicted.strip() == actual.strip()"
   ]
  },
  {
   "cell_type": "code",
   "execution_count": 15,
   "id": "d1136b84",
   "metadata": {},
   "outputs": [
    {
     "name": "stderr",
     "output_type": "stream",
     "text": [
      "100%|██████████| 300/300 [12:23<00:00,  2.48s/it]"
     ]
    },
    {
     "name": "stdout",
     "output_type": "stream",
     "text": [
      "Accuracy: 93.00% (279/300)\n"
     ]
    },
    {
     "name": "stderr",
     "output_type": "stream",
     "text": [
      "\n"
     ]
    }
   ],
   "source": [
    "correct = 0\n",
    "results = []\n",
    "total = len(dataset[:300])\n",
    "for item in tqdm(dataset[:300]):\n",
    "    question = item[\"question\"]\n",
    "    true_answer = extract_ground_truth(item[\"answer\"])\n",
    "    messages = [\n",
    "        SystemMessage(content=\"\"\"\n",
    "        You are a math expert.\n",
    "        For every question, you **must** respond using the `MathReasoning` tool.\n",
    "        - Do not respond with plain text or natural language.\n",
    "        - Use a list of `Step`s to break down the reasoning.\n",
    "        - Include a `final_answer` as a single number, no units or symbols.\n",
    "        - If you cannot solve it, return a final_answer of \"unknown\".\n",
    "        \"\"\"),\n",
    "        HumanMessage(content=question)\n",
    "    ]\n",
    "    try:\n",
    "        ai_msg = model_with_tools.invoke(messages)\n",
    "        predicted_answer = ai_msg.final_answer  \n",
    "        result = {\n",
    "            \"question\": question,\n",
    "            \"true_answer\": true_answer,\n",
    "            \"predicted_answer\": predicted_answer,\n",
    "            \"steps\": [step.model_dump() for step in ai_msg.steps], \n",
    "            \"correct\": compare_answers(predicted_answer, true_answer)\n",
    "        }\n",
    "        results.append(result)\n",
    "        if compare_answers(predicted_answer, true_answer):\n",
    "            correct += 1\n",
    "    except Exception as e:\n",
    "        print(f\"Error on question: {question[:60]}... => {e}\")\n",
    "        continue\n",
    "accuracy = correct / total * 100\n",
    "print(f\"Accuracy: {accuracy:.2f}% ({correct}/{total})\")\n"
   ]
  },
  {
   "cell_type": "code",
   "execution_count": 16,
   "id": "f7435d73",
   "metadata": {},
   "outputs": [
    {
     "name": "stdout",
     "output_type": "stream",
     "text": [
      "Đã lưu kết quả vào CoT_results.jsonl\n"
     ]
    }
   ],
   "source": [
    "# Lưu ra file JSONL\n",
    "output_path = \"CoT_results.jsonl\"\n",
    "with open(output_path, \"w\", encoding=\"utf-8\") as f:\n",
    "    for item in results:\n",
    "        f.write(json.dumps(item, ensure_ascii=False) + \"\\n\")\n",
    "print(f\"Đã lưu kết quả vào {output_path}\")"
   ]
  }
 ],
 "metadata": {
  "kernelspec": {
   "display_name": "base",
   "language": "python",
   "name": "python3"
  },
  "language_info": {
   "codemirror_mode": {
    "name": "ipython",
    "version": 3
   },
   "file_extension": ".py",
   "mimetype": "text/x-python",
   "name": "python",
   "nbconvert_exporter": "python",
   "pygments_lexer": "ipython3",
   "version": "3.12.7"
  }
 },
 "nbformat": 4,
 "nbformat_minor": 5
}
