{
 "cells": [
  {
   "cell_type": "code",
   "execution_count": 10,
   "id": "c9c31b11",
   "metadata": {},
   "outputs": [],
   "source": [
    "from openai import OpenAI\n",
    "from dateutil.relativedelta import relativedelta\n",
    "import os\n",
    "import json\n",
    "from pydantic import BaseModel,Field\n",
    "from langchain.llms import OpenAI\n",
    "from dotenv import load_dotenv\n",
    "from langchain.chat_models import ChatOpenAI, init_chat_model\n",
    "from langchain_core.messages import HumanMessage, SystemMessage\n",
    "from tqdm import tqdm\n",
    "import re\n",
    "from concurrent.futures import ThreadPoolExecutor, as_completed"
   ]
  },
  {
   "cell_type": "code",
   "execution_count": 11,
   "id": "88ba7099",
   "metadata": {},
   "outputs": [],
   "source": [
    "file_path = '../data/GSM8K/test.jsonl'\n",
    "\n",
    "with open(file_path, \"r\", encoding=\"utf-8\") as f:\n",
    "    dataset = [json.loads(line) for line in f]"
   ]
  },
  {
   "cell_type": "code",
   "execution_count": 12,
   "id": "78406e96",
   "metadata": {},
   "outputs": [],
   "source": [
    "load_dotenv()\n",
    "model=init_chat_model('gpt-4.1-mini',model_provider='openai',temperature=0.2)"
   ]
  },
  {
   "cell_type": "code",
   "execution_count": null,
   "id": "aea6475b",
   "metadata": {},
   "outputs": [],
   "source": [
    "class Step(BaseModel):\n",
    "    explanation: str\n",
    "    output: str\n",
    "class MathReasoning(BaseModel):\n",
    "    steps: list[Step]\n",
    "    final_answer: str"
   ]
  },
  {
   "cell_type": "code",
   "execution_count": 14,
   "id": "e6f9470a",
   "metadata": {},
   "outputs": [],
   "source": [
    "messages=[\n",
    "    SystemMessage(content=\"You are a math expert. For every question, respond ONLY by calling the 'MathReasoning' tool. You must explain the solution step-by-step using 'steps', and include the final numeric result in 'final_answer'.The result should be a number only, with no units.\"),\n",
    "    HumanMessage(\"Tìm x. 2x-3=9\")\n",
    "]\n",
    "model_with_tools = model.with_structured_output(MathReasoning)\n",
    "ai_msg = model_with_tools.invoke(messages)"
   ]
  },
  {
   "cell_type": "code",
   "execution_count": 15,
   "id": "bce0380a",
   "metadata": {},
   "outputs": [
    {
     "data": {
      "text/plain": [
       "MathReasoning(steps=[Step(explanation='Bắt đầu với phương trình 2x - 3 = 9.', output='2x - 3 = 9'), Step(explanation='Cộng 3 vào cả hai vế để loại bỏ -3 ở vế trái.', output='2x = 9 + 3'), Step(explanation='Tính tổng ở vế phải.', output='2x = 12'), Step(explanation='Chia cả hai vế cho 2 để tìm x.', output='x = 12 / 2'), Step(explanation='Tính thương để tìm giá trị của x.', output='x = 6')], final_answer='6')"
      ]
     },
     "execution_count": 15,
     "metadata": {},
     "output_type": "execute_result"
    }
   ],
   "source": [
    "ai_msg"
   ]
  },
  {
   "cell_type": "code",
   "execution_count": 16,
   "id": "50ab69dd",
   "metadata": {},
   "outputs": [],
   "source": [
    "def extract_ground_truth(answer: str) -> str:\n",
    "    match = re.search(r\"####\\s*([\\d,]+)\", answer)\n",
    "    if match:\n",
    "        # Loại bỏ dấu phẩy để đảm bảo kết quả là số chuẩn\n",
    "        return match.group(1).replace(\",\", \"\").strip()\n",
    "    return \"\"\n",
    "\n",
    "def compare_answers(predicted: str, actual: str, eps: float = 1e-3) -> bool:\n",
    "    try:\n",
    "        pred = round(float(predicted.strip()))\n",
    "        act = round(float(actual.strip()))\n",
    "        return abs(pred - act) < eps\n",
    "    except ValueError:\n",
    "        return predicted.strip().lower() == actual.strip().lower()"
   ]
  },
  {
   "cell_type": "code",
   "execution_count": 17,
   "id": "2d6982ae",
   "metadata": {},
   "outputs": [
    {
     "name": "stderr",
     "output_type": "stream",
     "text": [
      "100%|██████████| 300/300 [03:14<00:00,  1.55it/s]"
     ]
    },
    {
     "name": "stdout",
     "output_type": "stream",
     "text": [
      "Accuracy: 98.67% (296/300)\n"
     ]
    },
    {
     "name": "stderr",
     "output_type": "stream",
     "text": [
      "\n"
     ]
    }
   ],
   "source": [
    "def process_item(item):\n",
    "    question = item[\"question\"]\n",
    "    true_answer = extract_ground_truth(item[\"answer\"])\n",
    "    try:\n",
    "        messages = [\n",
    "        SystemMessage(content=\"\"\"\n",
    "        You are a math expert.\n",
    "        For every question, you **must** respond using the `MathReasoning` tool.\n",
    "        - Do not respond with plain text or natural language.\n",
    "        - Use a list of `Step`s to break down the reasoning.\n",
    "        - Include a `final_answer` as a single number, no units or symbols.\n",
    "        - If you cannot solve it, return a final_answer of \"unknown\".\n",
    "        - When dealing with money, do not round to thousands unless explicitly stated.\n",
    "        \"\"\"),\n",
    "        HumanMessage(content=question)\n",
    "    ]\n",
    "        ai_msg = model_with_tools.invoke(messages)\n",
    "        predicted_answer = ai_msg.final_answer\n",
    "        \n",
    "        return {\n",
    "            \"question\": question,\n",
    "            \"true_answer\": true_answer,\n",
    "            \"step\":ai_msg.steps,\n",
    "            \"predicted_answer\": predicted_answer,\n",
    "            \"correct\": compare_answers(predicted_answer, true_answer)\n",
    "        }\n",
    "    except Exception as e:\n",
    "        return {\"error\": str(e), \"question\": question}\n",
    "\n",
    "results = []\n",
    "correct = 0\n",
    "total = len(dataset[:300])\n",
    "with ThreadPoolExecutor(max_workers=5) as executor:\n",
    "    futures = [executor.submit(process_item, item) for item in dataset[:300]]\n",
    "    for future in tqdm(as_completed(futures), total=total):\n",
    "        result = future.result()\n",
    "        if \"error\" not in result:\n",
    "            results.append(result)\n",
    "            if result[\"correct\"]:\n",
    "                correct += 1\n",
    "        else:\n",
    "            print(f\"Error on question: {result['question'][:60]}... => {result['error']}\")\n",
    "accuracy = correct / total * 100\n",
    "print(f\"Accuracy: {accuracy:.2f}% ({correct}/{total})\")\n",
    "\n"
   ]
  },
  {
   "cell_type": "code",
   "execution_count": 18,
   "id": "f7435d73",
   "metadata": {},
   "outputs": [
    {
     "name": "stdout",
     "output_type": "stream",
     "text": [
      "Đã lưu 4 kết quả sai vào CoT_results.json\n"
     ]
    }
   ],
   "source": [
    "output_path = \"CoT_results.json\"\n",
    "os.makedirs(os.path.dirname(output_path) or \".\", exist_ok=True)\n",
    "def custom_encoder(obj):\n",
    "    if hasattr(obj, \"model_dump\"):\n",
    "        return obj.model_dump()\n",
    "    elif hasattr(obj, \"dict\"):\n",
    "        return obj.dict()\n",
    "    else:\n",
    "        raise TypeError(f\"Object of type {obj.__class__.__name__} is not JSON serializable\")\n",
    "\n",
    "wrong_answers = [r for r in results if not r.get(\"correct\", False)]\n",
    "\n",
    "# Ghi file JSON\n",
    "try:\n",
    "    with open(output_path, \"w\", encoding=\"utf-8\") as f:\n",
    "        json.dump(wrong_answers, f, ensure_ascii=False, indent=2, default=custom_encoder)\n",
    "    print(f\"Đã lưu {len(wrong_answers)} kết quả sai vào {output_path}\")\n",
    "except TypeError as e:\n",
    "    print(f\"Lỗi khi ghi file JSON: {e}\")\n"
   ]
  }
 ],
 "metadata": {
  "kernelspec": {
   "display_name": "base",
   "language": "python",
   "name": "python3"
  },
  "language_info": {
   "codemirror_mode": {
    "name": "ipython",
    "version": 3
   },
   "file_extension": ".py",
   "mimetype": "text/x-python",
   "name": "python",
   "nbconvert_exporter": "python",
   "pygments_lexer": "ipython3",
   "version": "3.12.7"
  }
 },
 "nbformat": 4,
 "nbformat_minor": 5
}
