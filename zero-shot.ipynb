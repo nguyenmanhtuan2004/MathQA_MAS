{
 "cells": [
  {
   "cell_type": "code",
   "execution_count": 1,
   "id": "ceb7f32e-80f1-4019-9eb9-1a68e95c5c75",
   "metadata": {},
   "outputs": [],
   "source": [
    "from mint.config import DATA_DIR\n",
    "from langchain_core.messages import HumanMessage, SystemMessage\n",
    "from langchain.chat_models import init_chat_model\n",
    "from dotenv import load_dotenv\n",
    "from openai import OpenAI\n",
    "from pydantic import BaseModel\n",
    "import os\n",
    "import json"
   ]
  },
  {
   "cell_type": "code",
   "execution_count": 2,
   "id": "9705ebbe-68f6-49c0-b867-de9716ed5307",
   "metadata": {},
   "outputs": [],
   "source": [
    "def load_jsonl(path):\n",
    "    with open(path, 'r', encoding='utf-8') as f:\n",
    "        return [json.loads(line) for line in f]\n",
    "\n",
    "data_dir = DATA_DIR(\"GSM8K\")\n",
    "\n",
    "data = load_jsonl(os.path.join(data_dir, 'test.jsonl'))"
   ]
  },
  {
   "cell_type": "code",
   "execution_count": 3,
   "id": "1facb02a-5f0d-4f2a-ad2b-dc6b194b06c9",
   "metadata": {},
   "outputs": [],
   "source": [
    "class FinalAnswer(BaseModel):\n",
    "    answer : float"
   ]
  },
  {
   "cell_type": "code",
   "execution_count": 4,
   "id": "2bfa55a8-21a5-40ef-88ab-08729a7d16d2",
   "metadata": {},
   "outputs": [
    {
     "data": {
      "text/plain": [
       "True"
      ]
     },
     "execution_count": 4,
     "metadata": {},
     "output_type": "execute_result"
    }
   ],
   "source": [
    "load_dotenv()"
   ]
  },
  {
   "cell_type": "code",
   "execution_count": 5,
   "id": "6ec65c1f-e336-4aa5-9ace-745f54818ffa",
   "metadata": {},
   "outputs": [],
   "source": [
    "model = init_chat_model(\n",
    "        model='gpt-4o-mini', \n",
    "        model_provider='openai',\n",
    "        temperature = 0.2\n",
    "    )"
   ]
  },
  {
   "cell_type": "code",
   "execution_count": 6,
   "id": "ab99f2a3-66ee-403e-94ad-8902e1c634fc",
   "metadata": {},
   "outputs": [],
   "source": [
    "messages = [\n",
    "        SystemMessage('As a Q&A expert, please help me answer the following questions.'),\n",
    "        HumanMessage(\"Janet\\u2019s ducks lay 16 eggs per day. She eats three for breakfast every morning and bakes muffins for her friends every day with four. She sells the remainder at the farmers' market daily for $2 per fresh duck egg. How much in dollars does she make every day at the farmers' market? Only provide the final answer.\"),\n",
    "    ]"
   ]
  },
  {
   "cell_type": "code",
   "execution_count": 7,
   "id": "a143a032-0b6b-45f8-8749-f6fd0b7903e3",
   "metadata": {},
   "outputs": [
    {
     "name": "stdout",
     "output_type": "stream",
     "text": [
      "Janet makes $18 every day at the farmers' market.\n"
     ]
    }
   ],
   "source": [
    "response = model.invoke(messages)\n",
    "raw_answer = response.content.strip()\n",
    "print(response.content)"
   ]
  },
  {
   "cell_type": "code",
   "execution_count": 8,
   "id": "35edbd44-c102-44ad-ac95-b556de339983",
   "metadata": {},
   "outputs": [],
   "source": [
    "client = OpenAI()"
   ]
  },
  {
   "cell_type": "code",
   "execution_count": 9,
   "id": "2f2627b5-414f-4e06-b1b2-96ddc5fdaac1",
   "metadata": {},
   "outputs": [],
   "source": [
    "parsed_response = client.responses.parse(\n",
    "        model=\"gpt-4o-mini\",\n",
    "        input=[\n",
    "            {\"role\": \"system\", \"content\": \"Extract the numerical answer only.\"},\n",
    "            {\"role\": \"user\", \"content\": raw_answer},\n",
    "        ],\n",
    "        text_format=FinalAnswer,\n",
    "    )"
   ]
  },
  {
   "cell_type": "code",
   "execution_count": 10,
   "id": "30bf8fb7-34ee-4b27-96b4-fd9220f544b8",
   "metadata": {},
   "outputs": [
    {
     "name": "stdout",
     "output_type": "stream",
     "text": [
      "18.0\n"
     ]
    }
   ],
   "source": [
    "print(parsed_response.output_parsed.answer)  "
   ]
  },
  {
   "cell_type": "code",
   "execution_count": 19,
   "id": "eeda447b-3eda-45cc-8db8-b31a19e98fe8",
   "metadata": {},
   "outputs": [],
   "source": [
    "def extract_final_result(text):\n",
    "    marker = \"####\"\n",
    "    if marker in text:\n",
    "        return float(text.split(marker)[-1].strip().replace(',', ''))"
   ]
  },
  {
   "cell_type": "code",
   "execution_count": 20,
   "id": "d28d6045-84c3-4aaa-8c49-0401ab9d4f32",
   "metadata": {},
   "outputs": [
    {
     "name": "stdout",
     "output_type": "stream",
     "text": [
      "Accuracy on GSM8K test subset (400 samples): 93.25%\n"
     ]
    }
   ],
   "source": [
    "correct = 0\n",
    "test_samples = data[:400]\n",
    "total = len(test_samples)\n",
    "\n",
    "for item in test_samples:\n",
    "        question = item['question']\n",
    "        true_answer = extract_final_result(item['answer'].strip())\n",
    "\n",
    "\n",
    "        messages = [\n",
    "            SystemMessage('As a Q&A expert, please help me answer the following questions.'),\n",
    "            HumanMessage(question)\n",
    "        ]\n",
    "\n",
    "        response = model.invoke(messages)\n",
    "        raw_answer = response.content.strip()\n",
    "\n",
    "        try:\n",
    "            parsed_response = client.responses.parse(\n",
    "                model=\"gpt-4o-mini\",\n",
    "                input=[\n",
    "                    {\"role\": \"system\", \"content\": \"Extract the numerical answer only.\"},\n",
    "                    {\"role\": \"user\", \"content\": raw_answer},\n",
    "                ],\n",
    "                text_format=FinalAnswer,\n",
    "            )\n",
    "            model_answer = parsed_response.output_parsed.answer\n",
    "        except Exception:\n",
    "            model_answer = extract_float(raw_answer)\n",
    "\n",
    "        if abs(model_answer - true_answer) < 1e-3:\n",
    "            correct += 1\n",
    "\n",
    "accuracy = correct / total\n",
    "print(f\"Accuracy on GSM8K test subset (400 samples): {accuracy:.2%}\")"
   ]
  }
 ],
 "metadata": {
  "kernelspec": {
   "display_name": "Python 3 (ipykernel)",
   "language": "python",
   "name": "python3"
  },
  "language_info": {
   "codemirror_mode": {
    "name": "ipython",
    "version": 3
   },
   "file_extension": ".py",
   "mimetype": "text/x-python",
   "name": "python",
   "nbconvert_exporter": "python",
   "pygments_lexer": "ipython3",
   "version": "3.11.3"
  }
 },
 "nbformat": 4,
 "nbformat_minor": 5
}
