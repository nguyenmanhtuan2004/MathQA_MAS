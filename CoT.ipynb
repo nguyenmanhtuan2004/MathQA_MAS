{
 "cells": [
  {
   "cell_type": "code",
   "execution_count": 103,
   "id": "c9c31b11",
   "metadata": {},
   "outputs": [],
   "source": [
    "from openai import OpenAI\n",
    "from datetime import datetime\n",
    "from dateutil.relativedelta import relativedelta\n",
    "import os\n",
    "import json\n",
    "from pydantic import BaseModel,Field\n",
    "from langchain.llms import OpenAI\n",
    "from dotenv import load_dotenv\n",
    "from langchain_experimental.pal_chain.base import PALChain\n",
    "from langchain.chat_models import ChatOpenAI, init_chat_model\n",
    "from langchain_core.messages import HumanMessage, SystemMessage\n",
    "from tqdm import tqdm\n",
    "import re\n"
   ]
  },
  {
   "cell_type": "code",
   "execution_count": 93,
   "id": "88ba7099",
   "metadata": {},
   "outputs": [],
   "source": [
    "file_path = 'data/GSM8K/test.jsonl'\n",
    "\n",
    "with open(file_path, \"r\", encoding=\"utf-8\") as f:\n",
    "    dataset = [json.loads(line) for line in f]"
   ]
  },
  {
   "cell_type": "code",
   "execution_count": 98,
   "id": "caf2bbcd",
   "metadata": {},
   "outputs": [
    {
     "name": "stdout",
     "output_type": "stream",
     "text": [
      "Janet’s ducks lay 16 eggs per day. She eats three for breakfast every morning and bakes muffins for her friends every day with four. She sells the remainder at the farmers' market daily for $2 per fresh duck egg. How much in dollars does she make every day at the farmers' market?\n",
      "Janet sells 16 - 3 - 4 = <<16-3-4=9>>9 duck eggs a day.\n",
      "She makes 9 * 2 = $<<9*2=18>>18 every day at the farmer’s market.\n",
      "#### 18\n"
     ]
    }
   ],
   "source": [
    "print(dataset[0][\"question\"])\n",
    "print(dataset[0][\"answer\"])"
   ]
  },
  {
   "cell_type": "code",
   "execution_count": 127,
   "id": "e6f9470a",
   "metadata": {},
   "outputs": [],
   "source": [
    "load_dotenv()\n",
    "class Step(BaseModel):\n",
    "    explanation: str\n",
    "    output: str\n",
    "\n",
    "class MathReasoning(BaseModel):\n",
    "    steps: list[Step]\n",
    "    final_answer: str\n",
    "load_dotenv()\n",
    "model=init_chat_model('gpt-4o-mini',model_provider='openai')\n",
    "messages=[\n",
    "        SystemMessage(content=\"You are a math expert. For every question, respond ONLY by calling the 'MathReasoning' tool. You must explain the solution step-by-step using 'steps', and include the final numeric result in 'final_answer'.The result should be a number only, with no units.\"),\n",
    "    HumanMessage(\"Eliza's rate per hour for the first 40 hours she works each week is $10. She also receives an overtime pay of 1.2 times her regular hourly rate. If Eliza worked for 45 hours this week, how much are her earnings for this week?\")\n",
    "]\n",
    "model_with_tools = model.bind_tools([MathReasoning])\n",
    "ai_msg = model_with_tools.invoke(messages)"
   ]
  },
  {
   "cell_type": "code",
   "execution_count": 128,
   "id": "a6ffc94e",
   "metadata": {},
   "outputs": [
    {
     "data": {
      "text/plain": [
       "'460'"
      ]
     },
     "execution_count": 128,
     "metadata": {},
     "output_type": "execute_result"
    }
   ],
   "source": [
    "tool_call = ai_msg.tool_calls[0] \n",
    "tool_args = tool_call['args']     \n",
    "tool_args['final_answer']"
   ]
  },
  {
   "cell_type": "code",
   "execution_count": 104,
   "id": "50ab69dd",
   "metadata": {},
   "outputs": [],
   "source": [
    "def extract_ground_truth(answer: str) -> str:\n",
    "    match = re.search(r\"####\\s*(\\d+)\", answer)\n",
    "    return match.group(1).strip() if match else \"\"\n",
    "\n",
    "def compare_answers(predicted: str, actual: str) -> bool:\n",
    "    return predicted.strip() == actual.strip()"
   ]
  },
  {
   "cell_type": "code",
   "execution_count": 131,
   "id": "d1136b84",
   "metadata": {},
   "outputs": [
    {
     "name": "stderr",
     "output_type": "stream",
     "text": [
      "  1%|          | 13/1319 [00:52<1:25:39,  3.94s/it]"
     ]
    },
    {
     "name": "stdout",
     "output_type": "stream",
     "text": [
      "Error on question: Carlos is planting a lemon tree. The tree will cost $90 to p... => 'final_answer'\n"
     ]
    },
    {
     "name": "stderr",
     "output_type": "stream",
     "text": [
      "  2%|▏         | 30/1319 [02:03<1:12:54,  3.39s/it]"
     ]
    },
    {
     "name": "stdout",
     "output_type": "stream",
     "text": [
      "Error on question: Gloria is shoe shopping when she comes across a pair of boot... => 'final_answer'\n"
     ]
    },
    {
     "name": "stderr",
     "output_type": "stream",
     "text": [
      "  9%|▉         | 119/1319 [07:35<1:10:18,  3.52s/it]"
     ]
    },
    {
     "name": "stdout",
     "output_type": "stream",
     "text": [
      "Error on question: A customs officer at the main port of SeaSide clearances cou... => 'final_answer'\n"
     ]
    },
    {
     "name": "stderr",
     "output_type": "stream",
     "text": [
      " 16%|█▌        | 210/1319 [14:34<1:40:16,  5.43s/it]"
     ]
    },
    {
     "name": "stdout",
     "output_type": "stream",
     "text": [
      "Error on question: Twenty dozen cups cost $1200 less than the total cost of hal... => 'final_answer'\n"
     ]
    },
    {
     "name": "stderr",
     "output_type": "stream",
     "text": [
      " 26%|██▋       | 349/1319 [24:47<59:37,  3.69s/it]  "
     ]
    },
    {
     "name": "stdout",
     "output_type": "stream",
     "text": [
      "Error on question: A factory used to make tractors, but now makes silos. When t... => 'final_answer'\n"
     ]
    },
    {
     "name": "stderr",
     "output_type": "stream",
     "text": [
      " 30%|███       | 397/1319 [28:10<1:06:52,  4.35s/it]"
     ]
    },
    {
     "name": "stdout",
     "output_type": "stream",
     "text": [
      "Error on question: Jenny is dividing up a pizza with 12 slices. She gives 1/3 t... => 'final_answer'\n"
     ]
    },
    {
     "name": "stderr",
     "output_type": "stream",
     "text": [
      " 32%|███▏      | 419/1319 [29:45<1:06:09,  4.41s/it]"
     ]
    },
    {
     "name": "stdout",
     "output_type": "stream",
     "text": [
      "Error on question: Zack's locker is half as big as Timothy's locker. Peter's lo... => 'final_answer'\n"
     ]
    },
    {
     "name": "stderr",
     "output_type": "stream",
     "text": [
      " 32%|███▏      | 420/1319 [29:48<59:29,  3.97s/it]  "
     ]
    },
    {
     "name": "stdout",
     "output_type": "stream",
     "text": [
      "Error on question: Stanley was standing on the side of the mountain, at an elev... => 'final_answer'\n"
     ]
    },
    {
     "name": "stderr",
     "output_type": "stream",
     "text": [
      " 37%|███▋      | 487/1319 [34:39<45:40,  3.29s/it]  "
     ]
    },
    {
     "name": "stdout",
     "output_type": "stream",
     "text": [
      "Error on question: James runs 12 miles a day for 5 days a week.  If he runs 10 ... => 'final_answer'\n"
     ]
    },
    {
     "name": "stderr",
     "output_type": "stream",
     "text": [
      " 40%|████      | 531/1319 [37:45<1:01:46,  4.70s/it]"
     ]
    },
    {
     "name": "stdout",
     "output_type": "stream",
     "text": [
      "Error on question: After tracking his workout routine for 8 weeks, Josh discove... => 'final_answer'\n"
     ]
    },
    {
     "name": "stderr",
     "output_type": "stream",
     "text": [
      " 40%|████      | 534/1319 [37:58<57:57,  4.43s/it]  "
     ]
    },
    {
     "name": "stdout",
     "output_type": "stream",
     "text": [
      "Error on question: Errol bought a computer, 2 monitors, and a printer for $2,40... => 'final_answer'\n"
     ]
    },
    {
     "name": "stderr",
     "output_type": "stream",
     "text": [
      " 44%|████▍     | 581/1319 [41:04<50:10,  4.08s/it]  "
     ]
    },
    {
     "name": "stdout",
     "output_type": "stream",
     "text": [
      "Error on question: Maggie's oven is malfunctioning. When she sets it to 450 the... => 'final_answer'\n"
     ]
    },
    {
     "name": "stderr",
     "output_type": "stream",
     "text": [
      " 45%|████▌     | 596/1319 [42:08<41:54,  3.48s/it]  "
     ]
    },
    {
     "name": "stdout",
     "output_type": "stream",
     "text": [
      "Error on question: Jerry is twice as old as he was 5 years ago. How old will Je... => 'final_answer'\n"
     ]
    },
    {
     "name": "stderr",
     "output_type": "stream",
     "text": [
      " 48%|████▊     | 628/1319 [44:16<30:58,  2.69s/it]  "
     ]
    },
    {
     "name": "stdout",
     "output_type": "stream",
     "text": [
      "Error on question: On a particular week, a tow truck pulled ten cars for each o... => 'final_answer'\n"
     ]
    },
    {
     "name": "stderr",
     "output_type": "stream",
     "text": [
      " 48%|████▊     | 631/1319 [44:26<31:37,  2.76s/it]"
     ]
    },
    {
     "name": "stdout",
     "output_type": "stream",
     "text": [
      "Error on question: Tiffany is measuring how many surfers can ride a big wave wi... => 'final_answer'\n"
     ]
    },
    {
     "name": "stderr",
     "output_type": "stream",
     "text": [
      " 49%|████▉     | 649/1319 [45:43<35:17,  3.16s/it]"
     ]
    },
    {
     "name": "stdout",
     "output_type": "stream",
     "text": [
      "Error on question: Howie wants to buy cupcakes for everyone in his class as a s... => 'final_answer'\n"
     ]
    },
    {
     "name": "stderr",
     "output_type": "stream",
     "text": [
      " 50%|████▉     | 653/1319 [46:00<45:05,  4.06s/it]"
     ]
    },
    {
     "name": "stdout",
     "output_type": "stream",
     "text": [
      "Error on question: James hires a horse-drawn carriage from 5 PM to 9 PM.  He ge... => 'final_answer'\n"
     ]
    },
    {
     "name": "stderr",
     "output_type": "stream",
     "text": [
      " 51%|█████     | 669/1319 [47:02<27:14,  2.51s/it]  "
     ]
    },
    {
     "name": "stdout",
     "output_type": "stream",
     "text": [
      "Error on question: In a company of 50 employees, 20% of the employees are manag... => 'final_answer'\n"
     ]
    },
    {
     "name": "stderr",
     "output_type": "stream",
     "text": [
      " 52%|█████▏    | 692/1319 [48:47<48:40,  4.66s/it]  "
     ]
    },
    {
     "name": "stdout",
     "output_type": "stream",
     "text": [
      "Error on question: John brings his dog to the vet. His dog needs 2 vaccines, wh... => 'final_answer'\n"
     ]
    },
    {
     "name": "stderr",
     "output_type": "stream",
     "text": [
      " 61%|██████    | 803/1319 [57:13<39:40,  4.61s/it]  "
     ]
    },
    {
     "name": "stdout",
     "output_type": "stream",
     "text": [
      "Error on question: Bubbles collects stuffed animals. She has three stuffed pupp... => 'final_answer'\n"
     ]
    },
    {
     "name": "stderr",
     "output_type": "stream",
     "text": [
      " 62%|██████▏   | 814/1319 [3:24:12<30:33:44, 217.87s/it]  "
     ]
    },
    {
     "name": "stdout",
     "output_type": "stream",
     "text": [
      "Error on question: John and DeSean bought a bag of marshmallows to make s'mores... => 'final_answer'\n"
     ]
    },
    {
     "name": "stderr",
     "output_type": "stream",
     "text": [
      " 68%|██████▊   | 895/1319 [3:32:27<1:53:55, 16.12s/it]  "
     ]
    },
    {
     "name": "stdout",
     "output_type": "stream",
     "text": [
      "Error on question: Last month, Tasha made $80 from selling lemonade and mowing ... => 'final_answer'\n"
     ]
    },
    {
     "name": "stderr",
     "output_type": "stream",
     "text": [
      " 77%|███████▋  | 1018/1319 [3:42:16<25:38,  5.11s/it] "
     ]
    },
    {
     "name": "stdout",
     "output_type": "stream",
     "text": [
      "Error on question: Olivia uploaded 72 pictures to Facebook.  She put the same n... => 'final_answer'\n"
     ]
    },
    {
     "name": "stderr",
     "output_type": "stream",
     "text": [
      " 90%|█████████ | 1188/1319 [4:00:55<3:09:42, 86.89s/it]"
     ]
    },
    {
     "name": "stdout",
     "output_type": "stream",
     "text": [
      "Error on question: Jay is making snowballs to prepare for a snowball fight with... => 'final_answer'\n"
     ]
    },
    {
     "name": "stderr",
     "output_type": "stream",
     "text": [
      " 99%|█████████▉| 1307/1319 [4:09:42<00:53,  4.42s/it]  "
     ]
    },
    {
     "name": "stdout",
     "output_type": "stream",
     "text": [
      "Error on question: Dr. Hugo Grumpus and his assistant, Igor, were preparing to ... => 'final_answer'\n"
     ]
    },
    {
     "name": "stderr",
     "output_type": "stream",
     "text": [
      "100%|██████████| 1319/1319 [4:10:32<00:00, 11.40s/it]"
     ]
    },
    {
     "name": "stdout",
     "output_type": "stream",
     "text": [
      "Accuracy: 87.19% (1150/1319)\n"
     ]
    },
    {
     "name": "stderr",
     "output_type": "stream",
     "text": [
      "\n"
     ]
    }
   ],
   "source": [
    "correct = 0\n",
    "total = len(dataset)\n",
    "model_with_tools = model.bind_tools([MathReasoning])\n",
    "for item in tqdm(dataset):\n",
    "    question = item[\"question\"]\n",
    "    true_answer = extract_ground_truth(item[\"answer\"])\n",
    "    messages = [\n",
    "        SystemMessage(content=\"\"\"\n",
    "        You are a math expert. For every question, you must respond by calling the `MathReasoning` tool.\n",
    "        Use a list of steps with explanations and intermediate outputs, and provide the final numeric result in `final_answer`.\n",
    "        Do not answer in plain text.\n",
    "        \"\"\"),\n",
    "        HumanMessage(content=question)\n",
    "    ]\n",
    "    try:\n",
    "        ai_msg = model_with_tools.invoke(messages)\n",
    "        tool_calls = ai_msg.tool_calls\n",
    "        if tool_calls and isinstance(tool_calls[0], dict):\n",
    "            predicted_answer = tool_calls[0][\"args\"][\"final_answer\"]\n",
    "        else:\n",
    "            predicted_answer = ai_msg.tool_calls[0].args[\"final_answer\"] \n",
    "        \n",
    "        if compare_answers(predicted_answer, true_answer):\n",
    "            correct += 1\n",
    "    except Exception as e:\n",
    "        print(f\"Error on question: {question[:60]}... => {e}\")\n",
    "        continue\n",
    "accuracy = correct / total * 100\n",
    "print(f\"Accuracy: {accuracy:.2f}% ({correct}/{total})\")\n"
   ]
  }
 ],
 "metadata": {
  "kernelspec": {
   "display_name": "base",
   "language": "python",
   "name": "python3"
  },
  "language_info": {
   "codemirror_mode": {
    "name": "ipython",
    "version": 3
   },
   "file_extension": ".py",
   "mimetype": "text/x-python",
   "name": "python",
   "nbconvert_exporter": "python",
   "pygments_lexer": "ipython3",
   "version": "3.12.7"
  }
 },
 "nbformat": 4,
 "nbformat_minor": 5
}
